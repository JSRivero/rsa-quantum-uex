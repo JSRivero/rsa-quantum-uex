{
 "cells": [
  {
   "cell_type": "code",
   "execution_count": 8,
   "metadata": {},
   "outputs": [],
   "source": [
    "import numpy as np\n",
    "\n",
    "from utilities import factorization, obtain_keys"
   ]
  },
  {
   "cell_type": "code",
   "execution_count": 199,
   "metadata": {},
   "outputs": [],
   "source": [
    "web_algoritmo = 'https://www.cs.utexas.edu/~mitra/honors/soln.html'"
   ]
  },
  {
   "cell_type": "code",
   "execution_count": 5,
   "metadata": {},
   "outputs": [],
   "source": [
    "dic_codify = {'0': 0, '1': 1, '2': 2, '3': 3, '4': 4, '5': 5, '6': 6, '7': 7, '8': 8, '9': 9, ' ': 10,\n",
    "              'a': 11, 'b': 12, 'c': 13, 'd': 14, 'e': 15, 'f': 16, 'g': 17, 'h': 18, 'i': 19, 'j': 20,\n",
    "              'k': 21, 'l': 22, 'm': 23, 'n': 24, 'ñ': 25, 'o': 26, 'p': 27, 'q': 28, 'r': 29, 's': 30,\n",
    "              't': 31, 'u': 32, 'v': 33, 'w': 34, 'x': 35, 'y': 36, 'z': 37, '.':38, ',': 39}"
   ]
  },
  {
   "cell_type": "code",
   "execution_count": 178,
   "metadata": {},
   "outputs": [
    {
     "data": {
      "text/plain": [
       "122"
      ]
     },
     "execution_count": 178,
     "metadata": {},
     "output_type": "execute_result"
    }
   ],
   "source": [
    "ord('z')"
   ]
  },
  {
   "cell_type": "code",
   "execution_count": 179,
   "metadata": {},
   "outputs": [
    {
     "data": {
      "text/plain": [
       "'z'"
      ]
     },
     "execution_count": 179,
     "metadata": {},
     "output_type": "execute_result"
    }
   ],
   "source": [
    "chr(122)"
   ]
  },
  {
   "cell_type": "code",
   "execution_count": 6,
   "metadata": {},
   "outputs": [],
   "source": [
    "dic_decodify = {v: k for k, v in dic_codify.items()}"
   ]
  },
  {
   "cell_type": "code",
   "execution_count": 9,
   "metadata": {},
   "outputs": [],
   "source": [
    "array = np.array([1,2,3])"
   ]
  },
  {
   "cell_type": "code",
   "execution_count": 14,
   "metadata": {},
   "outputs": [
    {
     "data": {
      "text/plain": [
       "array([1, 0, 3], dtype=int32)"
      ]
     },
     "execution_count": 14,
     "metadata": {},
     "output_type": "execute_result"
    }
   ],
   "source": [
    "np.power(array, 3) % 4"
   ]
  },
  {
   "cell_type": "code",
   "execution_count": 180,
   "metadata": {},
   "outputs": [],
   "source": [
    "def encrypt_message(message:str, key_e:int, key_n:int, dic_codify=dic_codify):\n",
    "    if dic_codify is None:\n",
    "        transformed_message = [ord(c) for c in message]\n",
    "    else:\n",
    "        transformed_message = [dic_codify[c] for c in message.lower()]\n",
    "    \n",
    "\n",
    "    encrypted_message = [k**key_e % key_n for k in transformed_message]\n",
    "    # encrypted_message = np.power(transformed_message, key_e).astype(int) % key_n\n",
    "\n",
    "    # return ''.join([str(k) for k in encrypted_message])\n",
    "    return encrypted_message"
   ]
  },
  {
   "cell_type": "code",
   "execution_count": 182,
   "metadata": {},
   "outputs": [],
   "source": [
    "def decrypt_message(message:np.array, key_d:int, key_n:int, dic_decodify=dic_decodify):\n",
    "\n",
    "    decrypted_message = [k**key_d % key_n for k in message]\n",
    "    # decrypted_message = np.power(message, key_d) % key_n\n",
    "\n",
    "    # print(decrypted_message)\n",
    "\n",
    "\n",
    "    if dic_decodify is None:\n",
    "        transformed_message = [chr(c) for c in decrypted_message]\n",
    "    else:\n",
    "        transformed_message = [dic_decodify[c] for c in decrypted_message]\n",
    "\n",
    "\n",
    "    return ''.join([str(k) for k in transformed_message])"
   ]
  },
  {
   "cell_type": "code",
   "execution_count": 186,
   "metadata": {},
   "outputs": [],
   "source": [
    "key_e, key_d, key_n = obtain_keys(89, 157)"
   ]
  },
  {
   "cell_type": "code",
   "execution_count": 194,
   "metadata": {},
   "outputs": [],
   "source": [
    "message = 'Andrés tremendo makinómetro y esto es una lambda: λ.'"
   ]
  },
  {
   "cell_type": "code",
   "execution_count": 195,
   "metadata": {},
   "outputs": [],
   "source": [
    "encrypted_message = encrypt_message(message=message, key_e=key_e, key_n=key_n, dic_codify=None)"
   ]
  },
  {
   "cell_type": "code",
   "execution_count": 196,
   "metadata": {},
   "outputs": [
    {
     "data": {
      "text/plain": [
       "[651,\n",
       " 1849,\n",
       " 12955,\n",
       " 8555,\n",
       " 3793,\n",
       " 11268,\n",
       " 5259,\n",
       " 13410,\n",
       " 8555,\n",
       " 1145,\n",
       " 10329,\n",
       " 1145,\n",
       " 1849,\n",
       " 12955,\n",
       " 9877,\n",
       " 5259,\n",
       " 10329,\n",
       " 9539,\n",
       " 6773,\n",
       " 3182,\n",
       " 1849,\n",
       " 11509,\n",
       " 10329,\n",
       " 1145,\n",
       " 13410,\n",
       " 8555,\n",
       " 9877,\n",
       " 5259,\n",
       " 1432,\n",
       " 5259,\n",
       " 1145,\n",
       " 11268,\n",
       " 13410,\n",
       " 9877,\n",
       " 5259,\n",
       " 1145,\n",
       " 11268,\n",
       " 5259,\n",
       " 4977,\n",
       " 1849,\n",
       " 9539,\n",
       " 5259,\n",
       " 564,\n",
       " 9539,\n",
       " 10329,\n",
       " 4403,\n",
       " 12955,\n",
       " 9539,\n",
       " 3039,\n",
       " 5259,\n",
       " 5012,\n",
       " 956]"
      ]
     },
     "execution_count": 196,
     "metadata": {},
     "output_type": "execute_result"
    }
   ],
   "source": [
    "encrypted_message"
   ]
  },
  {
   "cell_type": "code",
   "execution_count": 197,
   "metadata": {},
   "outputs": [],
   "source": [
    "decrypted_message = decrypt_message(message=encrypted_message, key_d=key_d, key_n=key_n, dic_decodify=None)"
   ]
  },
  {
   "cell_type": "code",
   "execution_count": 198,
   "metadata": {},
   "outputs": [
    {
     "data": {
      "text/plain": [
       "'Andrés tremendo makinómetro y esto es una lambda: λ.'"
      ]
     },
     "execution_count": 198,
     "metadata": {},
     "output_type": "execute_result"
    }
   ],
   "source": [
    "decrypted_message"
   ]
  },
  {
   "cell_type": "code",
   "execution_count": 4,
   "metadata": {},
   "outputs": [
    {
     "data": {
      "text/plain": [
       "(3, 3, 10)"
      ]
     },
     "execution_count": 4,
     "metadata": {},
     "output_type": "execute_result"
    }
   ],
   "source": [
    "obtain_keys(2, 5)"
   ]
  },
  {
   "cell_type": "code",
   "execution_count": 10,
   "metadata": {},
   "outputs": [
    {
     "name": "stdout",
     "output_type": "stream",
     "text": [
      "'0': 0, '1': 1, '2': 2, '3': 3, '4': 4, '5': 5, '6': 6, '7': 7, '8': 8, '9': 9, ' ': 10, 'a': 11, 'b': 12, 'c': 13, 'd': 14, 'e': 15, 'f': 16, 'g': 17, 'h': 18, 'i': 19, 'j': 20, 'k': 21, 'l': 22, 'm': 23, 'n': 24, 'ñ': 25, 'o': 26, 'p': 27, 'q': 28, 'r': 29, 's': 30, 't': 31, 'u': 32, 'v': 33, 'w': 34, 'x': 35, 'y': 36, 'z': 37, "
     ]
    }
   ],
   "source": [
    "for i, x in enumerate('0123456789 abcdefghijklmnñopqrstuvwxyz'):\n",
    "    print(\"'\" + x + \"': \" + str(i), end=', ')"
   ]
  },
  {
   "cell_type": "code",
   "execution_count": 7,
   "metadata": {},
   "outputs": [
    {
     "data": {
      "text/plain": [
       "[12,\n",
       " 13,\n",
       " 14,\n",
       " 15,\n",
       " 16,\n",
       " 17,\n",
       " 18,\n",
       " 19,\n",
       " 20,\n",
       " 21,\n",
       " 22,\n",
       " 23,\n",
       " 24,\n",
       " 25,\n",
       " 156,\n",
       " 26,\n",
       " 27,\n",
       " 28,\n",
       " 29,\n",
       " 30,\n",
       " 31,\n",
       " 32,\n",
       " 33,\n",
       " 34,\n",
       " 35,\n",
       " 36,\n",
       " 37]"
      ]
     },
     "execution_count": 7,
     "metadata": {},
     "output_type": "execute_result"
    }
   ],
   "source": [
    "[ord(c) - 85 for c in input('Write Text: ').lower()]"
   ]
  }
 ],
 "metadata": {
  "kernelspec": {
   "display_name": "base",
   "language": "python",
   "name": "python3"
  },
  "language_info": {
   "codemirror_mode": {
    "name": "ipython",
    "version": 3
   },
   "file_extension": ".py",
   "mimetype": "text/x-python",
   "name": "python",
   "nbconvert_exporter": "python",
   "pygments_lexer": "ipython3",
   "version": "3.9.13"
  },
  "orig_nbformat": 4
 },
 "nbformat": 4,
 "nbformat_minor": 2
}
